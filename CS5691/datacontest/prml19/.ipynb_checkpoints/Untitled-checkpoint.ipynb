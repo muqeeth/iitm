{
 "cells": [
  {
   "cell_type": "code",
   "execution_count": 43,
   "metadata": {},
   "outputs": [],
   "source": [
    "#import packages\n",
    "import pandas as pd\n",
    "import numpy as np\n",
    "import scipy.sparse as sps\n",
    "from tqdm import tqdm_notebook as tqdm"
   ]
  },
  {
   "cell_type": "code",
   "execution_count": 6,
   "metadata": {},
   "outputs": [],
   "source": [
    "#read data\n",
    "df_test = pd.read_csv(\"test.csv\")\n",
    "df_data = pd.read_csv('train.csv')\n",
    "df_data = df_data.sample(frac = 1)\n",
    "df_train, df_valid = df_data.head(5000000), df_data.tail(len(df_data) -5000000)\n",
    "train_data = df_train.to_numpy()\n",
    "valid_data = df_valid.to_numpy()\n",
    "test_data = df_test.to_numpy()"
   ]
  },
  {
   "cell_type": "code",
   "execution_count": null,
   "metadata": {},
   "outputs": [],
   "source": [
    "m = np.max(df_train['userId'])\n",
    "n = np.max(df_train['movieId'])\n",
    "r = sps.dok_matrix((m+1,n+1), dtype=np.float32)\n",
    "for index,row in df_train.iterrows():\n",
    "  i = int(row['userId'])\n",
    "  j = int(row['movieId'])\n",
    "  r[i,j] = row['rating']"
   ]
  },
  {
   "cell_type": "code",
   "execution_count": 25,
   "metadata": {},
   "outputs": [
    {
     "name": "stderr",
     "output_type": "stream",
     "text": [
      "100%|██████████| 5000000/5000000 [00:14<00:00, 342272.68it/s]\n"
     ]
    }
   ],
   "source": [
    "m = int(np.max(train_data.T[0]))\n",
    "n = int(np.max(train_data.T[1]))\n",
    "r = np.zeros(shape=(m+1,n+1))\n",
    "for i in tqdm(range(len(train_data))):\n",
    "  x1 = int(train_data.T[0][i])\n",
    "  x2 = int(train_data.T[1][i])\n",
    "  r[x1][x2] = train_data.T[2][i]"
   ]
  },
  {
   "cell_type": "code",
   "execution_count": 7,
   "metadata": {},
   "outputs": [],
   "source": [
    "T = 1\n",
    "mu = 0\n",
    "eta = 0.01\n",
    "b_users = np.zeros(m+1)\n",
    "b_movies  = np.zeros(n+1)\n",
    "b = np.zeros(shape=(m+1,n+1))\n",
    "b_users = np.zeros(m+1)\n",
    "b_movies  = np.zeros(n+1)\n",
    "for i in range(T):\n",
    "  batch_size = 50\n",
    "#   df_train = df_train.sample(frac = 1)\n",
    "  n_batches = int(len(df_train)/(batch_size)) + 1\n",
    "  for j in range(n_batches):\n",
    "    df_batch = df_train.iloc[j*batch_size:(j+1)*batch_size,]\n",
    "    for index,row in df_batch.iterrows():\n",
    "      x1 = int(row['userId'])\n",
    "      x2 = int(row['movieId'])\n",
    "      b[x1][x2] = mu + b_users[x1] + b_movies[x2]\n",
    "    for index,row in df_batch.iterrows():\n",
    "      x1 = int(row['userId'])\n",
    "      x2 = int(row['movieId'])\n",
    "      mu += eta*(r[x1,x2] - b[x1][x2])\n",
    "      b_users[x1] += eta*(r[x1,x2] - b[x1][x2])\n",
    "      b_movies[x2]+= eta*(r[x1,x2] - b[x1][x2])   "
   ]
  },
  {
   "cell_type": "code",
   "execution_count": 8,
   "metadata": {},
   "outputs": [
    {
     "name": "stderr",
     "output_type": "stream",
     "text": [
      "100%|██████████| 1/1 [01:46<00:00, 106.97s/it]\n"
     ]
    }
   ],
   "source": [
    "T = 1\n",
    "mu = 0\n",
    "eta = 0.01\n",
    "b_users = np.zeros(m+1)\n",
    "b_movies  = np.zeros(n+1)\n",
    "for i in tqdm(range(T)):\n",
    "  batch_size = 50\n",
    "  n_batches = int(len(train_data)/(batch_size)) + 1\n",
    "  for j in range(n_batches):\n",
    "    batch = train_data[j*batch_size:(j+1)*batch_size]\n",
    "    b1 = mu + b_users[batch.T[0].astype(int)] + b_movies[batch.T[1].astype(int)]\n",
    "    b3 = b1.copy()\n",
    "    b2 = batch.T[2]\n",
    "    mu += eta*(np.sum(b2-b3))\n",
    "    users = np.unique(batch.T[0].astype(int))\n",
    "    movies = np.unique(batch.T[1].astype(int))\n",
    "    for i in users:\n",
    "      b_users[i] += eta*(np.sum((b2-b3)[np.where(batch.T[0] == i)[0]]))\n",
    "    for i in movies:\n",
    "      b_movies[i] += eta*(np.sum((b2-b3)[np.where(batch.T[1] == i)[0]]))"
   ]
  },
  {
   "cell_type": "code",
   "execution_count": 10,
   "metadata": {},
   "outputs": [
    {
     "data": {
      "text/plain": [
       "3.1638586263009603"
      ]
     },
     "execution_count": 10,
     "metadata": {},
     "output_type": "execute_result"
    }
   ],
   "source": [
    "mu"
   ]
  },
  {
   "cell_type": "code",
   "execution_count": 13,
   "metadata": {},
   "outputs": [],
   "source": [
    "b = np.zeros(shape=(m+1,n+1))\n",
    "for i in range(m+1):\n",
    "  for j in range(n+1):\n",
    "    try:\n",
    "      b[i][j] = mu + b_users[i] + b_movies[j]\n",
    "    except:\n",
    "      try:\n",
    "        b[i][j] = mu + b_users[i]\n",
    "      except:\n",
    "        try:\n",
    "          b[i][j] = mu + b_movies[j]\n",
    "        except:\n",
    "          b[i][j] = mu"
   ]
  },
  {
   "cell_type": "code",
   "execution_count": 15,
   "metadata": {},
   "outputs": [
    {
     "name": "stdout",
     "output_type": "stream",
     "text": [
      "0.7024124598995218\n"
     ]
    }
   ],
   "source": [
    "d = np.zeros(len(valid_data))\n",
    "for i in range(len(valid_data)):\n",
    "  x1 = int(valid_data.T[0][i])\n",
    "  x2 = int(valid_data.T[1][i])\n",
    "  try:\n",
    "    d[i] = round(mu+b_users[x1] + b_movies[x2],1)\n",
    "  except:\n",
    "    try:\n",
    "      d[i] = round(mu+b_users[x1],1)\n",
    "    except:\n",
    "      try:\n",
    "        d[i] = round(mu+b_movies[x2],1)\n",
    "      except:\n",
    "        d[i] = round(mu,1)\n",
    "mse = ((valid_data.T[2]-d)**2).mean()\n",
    "print(mse)"
   ]
  },
  {
   "cell_type": "code",
   "execution_count": null,
   "metadata": {},
   "outputs": [],
   "source": [
    "data = []\n",
    "ind = 0\n",
    "for index,row in df_valid.iterrows():\n",
    "  x1 = int(row['userId'])\n",
    "  x2 = int(row['movieId'])\n",
    "  try:\n",
    "    data.append([ind,round(b[x1][x2],1)])\n",
    "  except:\n",
    "    data.append([ind,round(mu,1)])\n",
    "  ind+=1\n",
    "df_pred = pd.DataFrame(data, columns = ['Id', 'Prediction'])\n",
    "l = df_valid['rating'].values\n",
    "r_temp = df_pred['Prediction'].values\n",
    "mse = ((l-r_temp)**2).mean()\n",
    "print(mse)"
   ]
  },
  {
   "cell_type": "code",
   "execution_count": 33,
   "metadata": {},
   "outputs": [
    {
     "name": "stdout",
     "output_type": "stream",
     "text": [
      "[[1.         0.64521384 0.471398   ... 0.         0.03895666 0.01888976]\n",
      " [0.64521384 1.         0.45796522 ... 0.         0.04308118 0.02402551]\n",
      " [0.471398   0.45796522 1.         ... 0.         0.02380341 0.01014513]\n",
      " ...\n",
      " [0.         0.         0.         ... 0.         0.         0.        ]\n",
      " [0.03895666 0.04308118 0.02380341 ... 0.         1.         0.3518867 ]\n",
      " [0.01888976 0.02402551 0.01014513 ... 0.         0.3518867  1.        ]]\n"
     ]
    }
   ],
   "source": [
    "sim1 = np.matmul(r.T,r)\n",
    "temp1 = np.sum(np.abs(r.T)**2,axis=-1)**(1./2)\n",
    "temp1[temp1 == 0] = 1\n",
    "sim1 = sim1 / temp1[:,None]\n",
    "sim1 = sim1 / temp1[None,:]"
   ]
  },
  {
   "cell_type": "code",
   "execution_count": 55,
   "metadata": {},
   "outputs": [
    {
     "data": {
      "application/vnd.jupyter.widget-view+json": {
       "model_id": "eda1df6fd9754e408d1ef7d80e00143f",
       "version_major": 2,
       "version_minor": 0
      },
      "text/plain": [
       "HBox(children=(IntProgress(value=0, max=2304988), HTML(value='')))"
      ]
     },
     "metadata": {},
     "output_type": "display_data"
    },
    {
     "ename": "KeyboardInterrupt",
     "evalue": "",
     "output_type": "error",
     "traceback": [
      "\u001b[0;31m---------------------------------------------------------------------------\u001b[0m",
      "\u001b[0;31mKeyboardInterrupt\u001b[0m                         Traceback (most recent call last)",
      "\u001b[0;32m<ipython-input-55-adaddfad03f8>\u001b[0m in \u001b[0;36m<module>\u001b[0;34m\u001b[0m\n\u001b[1;32m      5\u001b[0m     \u001b[0mx2\u001b[0m \u001b[0;34m=\u001b[0m \u001b[0mint\u001b[0m\u001b[0;34m(\u001b[0m\u001b[0mtest_data\u001b[0m\u001b[0;34m.\u001b[0m\u001b[0mT\u001b[0m\u001b[0;34m[\u001b[0m\u001b[0;36m1\u001b[0m\u001b[0;34m]\u001b[0m\u001b[0;34m[\u001b[0m\u001b[0mi\u001b[0m\u001b[0;34m]\u001b[0m\u001b[0;34m)\u001b[0m\u001b[0;34m\u001b[0m\u001b[0;34m\u001b[0m\u001b[0m\n\u001b[1;32m      6\u001b[0m     \u001b[0;32mif\u001b[0m\u001b[0;34m(\u001b[0m\u001b[0mx1\u001b[0m\u001b[0;34m<=\u001b[0m\u001b[0mm\u001b[0m \u001b[0;32mand\u001b[0m \u001b[0mx2\u001b[0m\u001b[0;34m<=\u001b[0m\u001b[0mn\u001b[0m\u001b[0;34m)\u001b[0m\u001b[0;34m:\u001b[0m\u001b[0;34m\u001b[0m\u001b[0;34m\u001b[0m\u001b[0m\n\u001b[0;32m----> 7\u001b[0;31m         \u001b[0mtemp\u001b[0m \u001b[0;34m=\u001b[0m \u001b[0mnp\u001b[0m\u001b[0;34m.\u001b[0m\u001b[0mwhere\u001b[0m\u001b[0;34m(\u001b[0m\u001b[0mtrain_data\u001b[0m\u001b[0;34m.\u001b[0m\u001b[0mT\u001b[0m\u001b[0;34m[\u001b[0m\u001b[0;36m0\u001b[0m\u001b[0;34m]\u001b[0m \u001b[0;34m==\u001b[0m \u001b[0mx1\u001b[0m\u001b[0;34m)\u001b[0m\u001b[0;34m[\u001b[0m\u001b[0;36m0\u001b[0m\u001b[0;34m]\u001b[0m\u001b[0;34m\u001b[0m\u001b[0;34m\u001b[0m\u001b[0m\n\u001b[0m\u001b[1;32m      8\u001b[0m         \u001b[0madd\u001b[0m \u001b[0;34m=\u001b[0m \u001b[0;36m0\u001b[0m\u001b[0;34m\u001b[0m\u001b[0;34m\u001b[0m\u001b[0m\n\u001b[1;32m      9\u001b[0m         \u001b[0;32mif\u001b[0m\u001b[0;34m(\u001b[0m\u001b[0mlen\u001b[0m\u001b[0;34m(\u001b[0m\u001b[0mtemp\u001b[0m\u001b[0;34m)\u001b[0m\u001b[0;34m>\u001b[0m\u001b[0;36m0\u001b[0m\u001b[0;34m)\u001b[0m\u001b[0;34m:\u001b[0m\u001b[0;34m\u001b[0m\u001b[0;34m\u001b[0m\u001b[0m\n",
      "\u001b[0;31mKeyboardInterrupt\u001b[0m: "
     ]
    }
   ],
   "source": [
    "K = 100\n",
    "r_hat = b.copy()\n",
    "for i in tqdm(range(len(test_data))):\n",
    "    x1 = int(test_data.T[0][i])\n",
    "    x2 = int(test_data.T[1][i])\n",
    "    if(x1<=m and x2<=n):\n",
    "        temp = np.where(train_data.T[0] == x1)[0]\n",
    "        add = 0\n",
    "        if(len(temp)>0):\n",
    "            temp_movies = train_data.T[1][temp].astype(int)\n",
    "            keys = sim1[x2][temp_movies]\n",
    "            vals = np.arange(n+1)[temp_movies]\n",
    "            x = np.argsort(keys)\n",
    "            keys = keys[x][0:K]\n",
    "            vals = vals[x][0:K]\n",
    "            if(np.sum(keys)> 0):\n",
    "                for k,sim in enumerate(keys):\n",
    "                    add+=(r[x1][vals[k]] - b[x1][vals[k]])*sim\n",
    "                add = add/(np.sum(keys))\n",
    "        r_hat[x1][x2] = b[x1][x2] + add   "
   ]
  },
  {
   "cell_type": "code",
   "execution_count": 54,
   "metadata": {},
   "outputs": [
    {
     "name": "stdout",
     "output_type": "stream",
     "text": [
      "0.7024124598995218\n"
     ]
    }
   ],
   "source": [
    "d = np.zeros(len(valid_data))\n",
    "for i in range(len(valid_data)):\n",
    "    x1 = int(valid_data.T[0][i])\n",
    "    x2 = int(valid_data.T[1][i])\n",
    "    try:\n",
    "        d[i] = round(r_hat[x1][x2],1)\n",
    "    except:\n",
    "        d[i] = round(mu,1)\n",
    "mse = ((valid_data.T[2]-d)**2).mean()\n",
    "print(mse)"
   ]
  },
  {
   "cell_type": "code",
   "execution_count": null,
   "metadata": {},
   "outputs": [],
   "source": [
    "data = []\n",
    "ind = 0\n",
    "for index,row in df_test.iterrows():\n",
    "  x1 = int(row['userId'])\n",
    "  x2 = int(row['movieId'])\n",
    "  try:\n",
    "    data.append([ind,round(r_hat[x1][x2],1)])\n",
    "  except:\n",
    "    try:\n",
    "      data.append([ind,round(mu + b_users[x1],1)])\n",
    "    except:\n",
    "      try:\n",
    "        data.append([ind,round(mu + b_movies[x2],1)])\n",
    "      except:\n",
    "        data.append([ind,round(mu,1)])\n",
    "  ind+=1\n",
    "df_test_pred = pd.DataFrame(data, columns = ['Id', 'Prediction'])\n",
    "df_test_pred.to_csv('test_pred.csv',header=True, encoding='utf-8',index=False)"
   ]
  },
  {
   "cell_type": "code",
   "execution_count": null,
   "metadata": {},
   "outputs": [],
   "source": [
    "d = 100\n",
    "P = np.random.rand(m+1,d)\n",
    "Q = np.random.rand(n+1,d)\n",
    "P_temp = P.copy()\n",
    "Q_temp = Q.copy()\n",
    "eta = 0.01\n",
    "for k in range(100):\n",
    "  for i in range(m+1):\n",
    "    df_temp = df_train.loc[df_train['userId'] ==i]\n",
    "    if(not df_temp.empty):\n",
    "      temp_movies = np.unique(df_temp[['movieId']].values)\n",
    "      x1 = np.zeros(d)\n",
    "      for s in temp_movies:\n",
    "        x1 +=(eta*(r[i,s]-np.dot(P[i],Q[s])))*Q[s]\n",
    "      P_temp[i] = P[i] + x1\n",
    "      \n",
    "  for j in range(n+1):\n",
    "    df_temp = df_train.loc[df_train['movieId'] ==j]\n",
    "    if(not df_temp.empty):\n",
    "      temp_users = np.unique(df_temp[['userId']].values)\n",
    "      x1 = np.zeros(d)\n",
    "      for s in temp_users:\n",
    "        x1 +=(eta*(r[s,j]-np.dot(P[s],Q[j])))*P[s]\n",
    "      Q_temp[j] = Q[j] + x1\n",
    "  P = P_temp.copy()\n",
    "  Q = Q_temp.copy()"
   ]
  }
 ],
 "metadata": {
  "kernelspec": {
   "display_name": "Python 3",
   "language": "python",
   "name": "python3"
  },
  "language_info": {
   "codemirror_mode": {
    "name": "ipython",
    "version": 3
   },
   "file_extension": ".py",
   "mimetype": "text/x-python",
   "name": "python",
   "nbconvert_exporter": "python",
   "pygments_lexer": "ipython3",
   "version": "3.6.8"
  }
 },
 "nbformat": 4,
 "nbformat_minor": 2
}
