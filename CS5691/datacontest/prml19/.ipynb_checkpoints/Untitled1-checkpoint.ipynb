{
 "cells": [
  {
   "cell_type": "code",
   "execution_count": 1,
   "metadata": {},
   "outputs": [],
   "source": [
    "import pandas as pd\n",
    "import numpy as np\n",
    "import scipy.sparse as sps\n",
    "from tqdm import tqdm_notebook as tqdm"
   ]
  },
  {
   "cell_type": "code",
   "execution_count": 6,
   "metadata": {},
   "outputs": [],
   "source": [
    "df_test = pd.read_csv(\"test.csv\")\n",
    "df_data = pd.read_csv('train.csv')\n",
    "df_data = df_data.sample(frac = 1)\n",
    "df_train, df_valid = df_data.head(5000000), df_data.tail(len(df_data) -5000000)\n",
    "data  = df_data.to_numpy()\n",
    "train_data = df_train.to_numpy()\n",
    "valid_data = df_valid.to_numpy()\n",
    "test_data = df_test.to_numpy()"
   ]
  },
  {
   "cell_type": "code",
   "execution_count": 11,
   "metadata": {},
   "outputs": [
    {
     "data": {
      "text/plain": [
       "3.3606811028388113"
      ]
     },
     "execution_count": 11,
     "metadata": {},
     "output_type": "execute_result"
    }
   ],
   "source": [
    "np.mean(valid_data.T[2])"
   ]
  },
  {
   "cell_type": "code",
   "execution_count": 26,
   "metadata": {},
   "outputs": [
    {
     "name": "stdout",
     "output_type": "stream",
     "text": [
      "3.3606811028388113\n",
      "1.1175982840021792\n"
     ]
    }
   ],
   "source": [
    "\n",
    "print(mu)\n",
    "d = np.zeros(len(valid_data))\n",
    "for i in range(len(valid_data)):\n",
    "    d[i] = round(mu,1)\n",
    "mse = ((valid_data.T[2]-d)**2).mean()\n",
    "print(mse)"
   ]
  }
 ],
 "metadata": {
  "kernelspec": {
   "display_name": "Python 3",
   "language": "python",
   "name": "python3"
  },
  "language_info": {
   "codemirror_mode": {
    "name": "ipython",
    "version": 3
   },
   "file_extension": ".py",
   "mimetype": "text/x-python",
   "name": "python",
   "nbconvert_exporter": "python",
   "pygments_lexer": "ipython3",
   "version": "3.6.8"
  }
 },
 "nbformat": 4,
 "nbformat_minor": 2
}
