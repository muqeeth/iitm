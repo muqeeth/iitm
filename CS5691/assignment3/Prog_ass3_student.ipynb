{
 "cells": [
  {
   "cell_type": "markdown",
   "metadata": {},
   "source": [
    "# General Instructions to students:\n",
    "\n",
    "1. There are 5 types of cells in this notebook. The cell type will be indicated within the cell.\n",
    "    1. Markdown cells with problem written in it. (DO NOT TOUCH THESE CELLS) (**Cell type: TextRead**)\n",
    "    2. Python cells with setup code for further evaluations. (DO NOT TOUCH THESE CELLS) (**Cell type: CodeRead**)\n",
    "    3. Python code cells with some template code or empty cell. (FILL CODE IN THESE CELLS BASED ON INSTRUCTIONS IN CURRENT AND PREVIOUS CELLS) (**Cell type: CodeWrite**)\n",
    "    4. Markdown cells where a written reasoning or conclusion is expected. (WRITE SENTENCES IN THESE CELLS) (**Cell type: TextWrite**)\n",
    "    5. Temporary code cells for convenience and TAs. (YOU MAY DO WHAT YOU WILL WITH THESE CELLS, TAs WILL REPLACE WHATEVER YOU WRITE HERE WITH OFFICIAL EVALUATION CODE) (**Cell type: Convenience**)\n",
    "    \n",
    "2. You are not allowed to insert new cells in the submitted notebook.\n",
    "\n",
    "3. You are not allowed to import any extra packages.\n",
    "\n",
    "4. The code is to be written in Python 3.6 syntax. Latest versions of other packages maybe assumed.\n",
    "\n",
    "5. In CodeWrite Cells, the only outputs to be given are plots asked in the question. Nothing else to be output/print. \n",
    "\n",
    "6. If TextWrite cells ask you to give accuracy/error/other numbers you can print them on the code cells, but remove the print statements before submitting.\n",
    "\n",
    "7. The convenience code can be used to check the expected syntax of the functions. At a minimum, your entire notebook must run with \"run all\" with the convenience cells as it is. Any runtime failures on the submitted notebook as it is will get zero marks.\n",
    "\n",
    "8. All code must be written by yourself. Copying from other students/material on the web is strictly prohibited. Any violations will result in zero marks.\n",
    "\n",
    "9. All datasets will be given as .npz files, and will contain data in 4 numpy arrays :\"X_train, Y_train, X_test, Y_test\". In that order. The meaning of the 4 arrays can be easily inferred from their names.\n",
    "\n",
    "10. All plots must be labelled properly, all tables must have rows and columns named properly."
   ]
  },
  {
   "cell_type": "code",
   "execution_count": 3,
   "metadata": {},
   "outputs": [],
   "source": [
    "import numpy as np\n",
    "import matplotlib.pyplot as plt\n",
    "import pandas as pd\n",
    "import json"
   ]
  },
  {
   "cell_type": "code",
   "execution_count": 5,
   "metadata": {},
   "outputs": [],
   "source": [
    "#CodeRead\n",
    "\n",
    "data_folder = '../Data_contest/dataset/'\n",
    "\n",
    "\n",
    "genome_scores_df=pd.read_csv(data_folder+'genome_scores.csv') # Large (500MB)\n",
    "movies_df=pd.read_csv(data_folder+'movies.csv')\n",
    "train_df=pd.read_csv(data_folder+'train.csv') # Large 500MB\n",
    "validation_df = pd.read_csv(data_folder+'validation.csv') \n",
    "\n",
    "\n",
    "\n",
    "\n",
    "\n",
    "\n"
   ]
  },
  {
   "cell_type": "code",
   "execution_count": 6,
   "metadata": {},
   "outputs": [],
   "source": [
    "#CodeRead\n",
    "\n",
    "# create movie rating dataset from train\n",
    "\n",
    "# Feature vector for the 10000 movies, each with a 1128 dimensional vector. \n",
    "# If a movie doesn't appear in genome_scores we make it simply the 0 vector.\n",
    "X=np.zeros((10000,1128)) \n",
    "movies_with_featvecs=set(genome_scores_df['movieId'])\n",
    "# The average rating, for each of the movies in the training set. \n",
    "# -1 if it is not in the train set.\n",
    "rating_movies = -1*np.ones(10000) \n",
    "\n",
    "# Each movie, is labelled +1 or -1 based on whetherr it is a comedy or not\n",
    "comedy = np.zeros(10000) \n",
    "\n",
    "for i in range(10000):\n",
    "    if i not in movies_with_featvecs:\n",
    "        continue\n",
    "    temp = genome_scores_df[genome_scores_df['movieId']==i]\n",
    "    feat_vec= np.array(temp['relevance'])\n",
    "    X[i,:]=feat_vec\n",
    "\n",
    "for i in range(10000):\n",
    "    temp = train_df[train_df['movieId']==i]\n",
    "    if len(temp)==0:\n",
    "        continue\n",
    "    ratings_curr_movies = temp['rating']\n",
    "    rating_movies[i] = np.mean(ratings_curr_movies)\n",
    "\n",
    "for i in range(10000):\n",
    "    temp = movies_df[movies_df['movieId']==i]\n",
    "    if len(temp)==0:\n",
    "        continue\n",
    "    temp = temp['genres'].values[0]\n",
    "    temp = temp.split('|')\n",
    "    comedy[i] = 'Comedy' in temp\n",
    "    comedy[i] = 2*comedy[i] -1\n"
   ]
  },
  {
   "cell_type": "code",
   "execution_count": 7,
   "metadata": {},
   "outputs": [
    {
     "data": {
      "text/plain": [
       "3.3601078084681526"
      ]
     },
     "execution_count": 7,
     "metadata": {},
     "output_type": "execute_result"
    }
   ],
   "source": [
    "np.array(train_df['rating']).mean()"
   ]
  },
  {
   "cell_type": "markdown",
   "metadata": {},
   "source": [
    "# Problem 1. K-Nearest Neighbours\n",
    "\n",
    "Run k-Nearest neighbours on the binary classification dataset below, for classifiying whether a given movie is a comedy or not. The train and test feature vectors are given by X_train, X_test and the train and test ratings are Y_train and Y_test. \n",
    "\n",
    "Run k-Nearest neighbours for different k values (1,2,4,8,16,32,64) and report accuracies in the next cell. "
   ]
  },
  {
   "cell_type": "code",
   "execution_count": 8,
   "metadata": {},
   "outputs": [
    {
     "name": "stdout",
     "output_type": "stream",
     "text": [
      "[[0.025   0.025   0.05775 ... 0.03625 0.07775 0.023  ]\n",
      " [0.03975 0.04375 0.03775 ... 0.01475 0.09025 0.01875]\n",
      " [0.0435  0.05475 0.028   ... 0.0195  0.097   0.0185 ]\n",
      " ...\n",
      " [0.10125 0.05025 0.08775 ... 0.9755  0.08575 0.02275]\n",
      " [0.03475 0.0415  0.0305  ... 0.0055  0.10875 0.018  ]\n",
      " [0.04075 0.0425  0.04    ... 0.0175  0.07825 0.0205 ]]\n",
      "[ 1. -1.  1. ... -1.  1. -1.]\n"
     ]
    }
   ],
   "source": [
    "#CodeWrite cell\n",
    "\n",
    "X_train = np.array(X[:8000,])\n",
    "X_test = np.array(X[8000:])\n",
    "\n",
    "Y_train=np.array(comedy[:8000])\n",
    "Y_test=np.array(comedy[:8000])\n",
    "\n",
    "print(X_train)\n",
    "print(Y_train)"
   ]
  },
  {
   "cell_type": "code",
   "execution_count": 13,
   "metadata": {},
   "outputs": [
    {
     "data": {
      "text/plain": [
       "0"
      ]
     },
     "execution_count": 13,
     "metadata": {},
     "output_type": "execute_result"
    }
   ],
   "source": [
    "# A = np.array([[1,2],[3,4]])\n",
    "# A = A**2\n",
    "# print(A)\n",
    "# np.sum(A,axis = 1)\n",
    "np.sign(0)"
   ]
  },
  {
   "cell_type": "markdown",
   "metadata": {},
   "source": [
    "TextWrite cell. Report test accuracies for different k here.\n",
    "\n",
    "\n"
   ]
  },
  {
   "cell_type": "markdown",
   "metadata": {},
   "source": [
    "# Problem 2: PCA and regression\n",
    "\n",
    "Take the regression dataset below, and perform linear regression after doing PCA on the feature vector. \n",
    "\n",
    "For each K in [4,32,256,1024] take the top k components and report the mean squared error on the test set below. \n",
    "\n",
    "For each K you can choose the regularisation hyperparameter $\\lambda$ for linear regression using a 80-20 split of the training set. \n",
    "\n",
    "For each K above, report the best lambda and the mean squared error for this best lambda in the cell below the next.\n",
    "\n",
    "\n"
   ]
  },
  {
   "cell_type": "code",
   "execution_count": 14,
   "metadata": {},
   "outputs": [
    {
     "name": "stdout",
     "output_type": "stream",
     "text": [
      "[[0.03937686 0.01988737 0.01138696 ... 0.0099039  0.01110637 0.01556968]\n",
      " [0.01988737 0.02478118 0.00871109 ... 0.00694334 0.00746217 0.01227542]\n",
      " [0.01138696 0.00871109 0.01265533 ... 0.00449183 0.00780211 0.00707756]\n",
      " ...\n",
      " [0.0099039  0.00694334 0.00449183 ... 0.01962996 0.00763836 0.01122575]\n",
      " [0.01110637 0.00746217 0.00780211 ... 0.00763836 0.01677604 0.00873936]\n",
      " [0.01556968 0.01227542 0.00707756 ... 0.01122575 0.00873936 0.03307923]]\n"
     ]
    }
   ],
   "source": [
    "# CodeWrite\n",
    "\n",
    "X_all = X[rating_movies>0]\n",
    "Y_all = rating_movies[rating_movies>0]\n",
    "\n",
    "X_train = np.array(X_all[:7000])\n",
    "Y_train = np.array(Y_all[:7000])\n",
    "X_test = np.array(X_all[7000:])\n",
    "Y_test = np.array(Y_all[7000:])\n"
   ]
  },
  {
   "cell_type": "code",
   "execution_count": 18,
   "metadata": {},
   "outputs": [
    {
     "name": "stdout",
     "output_type": "stream",
     "text": [
      "(1128, 1128)\n"
     ]
    }
   ],
   "source": [
    "S  = np.cov(X_train.T,bias = True)\n",
    "print(np.shape(S))"
   ]
  },
  {
   "cell_type": "code",
   "execution_count": 32,
   "metadata": {},
   "outputs": [
    {
     "name": "stdout",
     "output_type": "stream",
     "text": [
      "[[ 0.0057898   0.00507748 -0.0156247  ... -0.01779617  0.00802624\n",
      "   0.00022951]\n",
      " [-0.0160248  -0.01239301  0.00217001 ... -0.00569475 -0.01332784\n",
      "  -0.00325735]\n",
      " [ 0.00028651 -0.0010638  -0.02611284 ... -0.03550144  0.04275296\n",
      "   0.01509447]\n",
      " ...\n",
      " [ 0.00481793  0.02562784 -0.02118312 ... -0.01523269 -0.03618406\n",
      "  -0.01854505]\n",
      " [ 0.02276001  0.0005556   0.00209198 ... -0.03284176  0.01248716\n",
      "  -0.00920968]\n",
      " [ 0.0001121   0.06247849 -0.00720538 ...  0.03639461  0.00969977\n",
      "   0.04358215]]\n"
     ]
    }
   ],
   "source": [
    "w,v  = np.linalg.eig(S)\n",
    "print(v.T[0:])"
   ]
  },
  {
   "cell_type": "markdown",
   "metadata": {},
   "source": [
    "TextWrite cell. Report best lambda and the mean squared error on the test set, for different K here.\n"
   ]
  },
  {
   "cell_type": "markdown",
   "metadata": {},
   "source": [
    "# Problem 3: Baseline methods for collaborative filtering\n",
    "\n",
    "Run the baseline methods discussed in class for collaborative filtering. Use the old train.csv to train and the newly provided validation.csv to report your mean squared errors. \n"
   ]
  },
  {
   "cell_type": "code",
   "execution_count": null,
   "metadata": {
    "collapsed": true
   },
   "outputs": [],
   "source": [
    "#CodeWrite\n"
   ]
  },
  {
   "cell_type": "markdown",
   "metadata": {},
   "source": [
    "Textwrite. Give the MSE on the validation set for the baseline method.\n",
    "\n"
   ]
  },
  {
   "cell_type": "markdown",
   "metadata": {},
   "source": [
    "# Problem 4. EM algorithm for Gaussian Mixture models\n",
    "\n",
    "Take below 2 dimensional data, and run the GMM algorithm with k=3 components. The data is in the variable X, each row represents a data point.\n",
    "\n",
    "Give the estimate of mean, covariance and component weights of all three components in the text cell after the next.\n",
    "\n"
   ]
  },
  {
   "cell_type": "code",
   "execution_count": 8,
   "metadata": {},
   "outputs": [
    {
     "data": {
      "image/png": "[encoded data removed]",
      "text/plain": [
       "<Figure size 432x288 with 1 Axes>"
      ]
     },
     "metadata": {
      "needs_background": "light"
     },
     "output_type": "display_data"
    }
   ],
   "source": [
    "#CodeRead. Do not touch this cell.\n",
    "\n",
    "mu1=np.array([[1.,1]])\n",
    "mu2=np.array([[3.,5.]])\n",
    "mu3=np.array([[5.,0.]])\n",
    "\n",
    "Sigma1=np.array([[1.,0.],[0.,1.]])\n",
    "Sigma2=np.array([[3.,0.],[0.,0.3]])\n",
    "Sigma3=np.array([[1.,0.],[0.,1.]])\n",
    "\n",
    "A1=np.linalg.cholesky(Sigma1)\n",
    "A2=np.linalg.cholesky(Sigma2)\n",
    "A3=np.linalg.cholesky(Sigma3)\n",
    "\n",
    "\n",
    "X1=np.dot(np.random.randn(500,2),A1)+mu1\n",
    "X2=np.dot(np.random.randn(500,2),A2)+mu2\n",
    "X3=np.dot(np.random.randn(500,2),A1)+mu3\n",
    "\n",
    "plt.axis('equal')\n",
    "plt.scatter(X1[:,0],X1[:,1])\n",
    "plt.scatter(X2[:,0],X2[:,1])\n",
    "plt.scatter(X3[:,0],X3[:,1])\n",
    "\n",
    "\n",
    "X=np.concatenate((X1,X2,X3),axis=0)\n",
    "\n",
    "np.random.shuffle(X)\n",
    "del mu1\n",
    "del mu2\n",
    "del mu3\n",
    "del Sigma1\n",
    "del Sigma2\n",
    "del Sigma3\n"
   ]
  },
  {
   "cell_type": "code",
   "execution_count": 26,
   "metadata": {},
   "outputs": [
    {
     "name": "stdout",
     "output_type": "stream",
     "text": [
      "0.4753172207885532 0.11762168736831313 0.4070610918431338\n",
      "[3.9157565  2.92371043] [3.9157565  2.92371043] [3.9157565  2.92371043]\n",
      "[[12.82936218 12.82936218]\n",
      " [12.82936218 12.82936218]] [[12.82936218 12.82936218]\n",
      " [12.82936218 12.82936218]] [[12.82936218 12.82936218]\n",
      " [12.82936218 12.82936218]]\n"
     ]
    }
   ],
   "source": [
    "#CodeWrite\n",
    "N = 500\n",
    "K = 3\n",
    "pi1 = np.array([1/3,1/3,1/3])\n",
    "\n",
    "np.random.seed(0)\n",
    "idx = np.random.randint(N, size=3)\n",
    "mu = X[idx,:]\n",
    "# mu = np.array([[6.18092989, 5.03434708],[0.24523134, 1.28206614],[4.69619276, 1.10831934]])\n",
    "\n",
    "sigma1=np.array([[1.,0.],[0.,1.]])\n",
    "sigma2=np.array([[1.,0.],[0.,1]])\n",
    "sigma3=np.array([[1.,0.],[0.,1.]])\n",
    "\n",
    "sigma  = []\n",
    "sigma.append(sigma1)\n",
    "sigma.append(sigma2)\n",
    "sigma.append(sigma3)\n",
    "\n",
    "#print(sigma[0])\n",
    "\n",
    "\n",
    "def normal(x_n,mu_k,sigma_k):\n",
    "    det1 = np.linalg.det(sigma1)\n",
    "    value = np.exp(-0.5*((x_n-mu_k).T@np.linalg.pinv(sigma_k)@(x_n-mu_k)))/(2*np.pi*np.sqrt(det1))\n",
    "    return value\n",
    "\n",
    "z = np.zeros((K,N))\n",
    "for i in range(20):\n",
    "    for k in range(K):\n",
    "        for n in range(N):\n",
    "            l = (pi1[0]*normal(X[n],mu[0],sigma[0]) + pi1[1]*normal(X[n],mu[1],sigma[1]) + \n",
    "            pi1[2]*normal(X[n],mu[2],sigma[2]))\n",
    "            z[k][n] = pi1[k]*normal(X[n],mu[k],sigma[k])/l\n",
    "\n",
    "    for k in range(K):\n",
    "        Nk = 0\n",
    "        l = np.array([1,1])\n",
    "        m = np.array([[1,1],[1,1]])\n",
    "        for n in range(N):\n",
    "            Nk+=z[k][n]\n",
    "        for n in range(N):\n",
    "#             l+=(z[k][n]*X[n])/Nk\n",
    "            l = np.add(l,(z[k][n]*X[n])/Nk)\n",
    "        for n in range(N):\n",
    "#             m+=(z[k][n]*(X[n]-l)@(X[n]-l).T)/Nk\n",
    "            m = np.add(m,(z[k][n]*(X[n]-l)@(X[n]-l).T)/Nk)\n",
    "        pi1[k] = Nk/500\n",
    "        mu[k] = l\n",
    "        sigma[k] = m\n",
    "print(pi1[0],pi1[1],pi1[2])\n",
    "print(mu[0],mu[1],mu[2])\n",
    "print(sigma[0],sigma[1],sigma[2])"
   ]
  },
  {
   "cell_type": "markdown",
   "metadata": {},
   "source": [
    "TextWrite. Give the estimated $\\pi_k$, $\\mu_k$ and $\\Sigma_k$ for $k\\in\\{1,2,3\\}$"
   ]
  }
 ],
 "metadata": {
  "kernelspec": {
   "display_name": "Python 3",
   "language": "python",
   "name": "python3"
  },
  "language_info": {
   "codemirror_mode": {
    "name": "ipython",
    "version": 3
   },
   "file_extension": ".py",
   "mimetype": "text/x-python",
   "name": "python",
   "nbconvert_exporter": "python",
   "pygments_lexer": "ipython3",
   "version": "3.6.8"
  }
 },
 "nbformat": 4,
 "nbformat_minor": 2
}
