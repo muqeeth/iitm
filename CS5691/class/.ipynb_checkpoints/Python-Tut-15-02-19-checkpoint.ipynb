{
 "cells": [
  {
   "cell_type": "markdown",
   "metadata": {},
   "source": [
    "# Links:\n",
    "Install anaconda and python : https://jupyter.org/install\n",
    "<br>\n",
    "http://cs231n.github.io/python-numpy-tutorial/"
   ]
  },
  {
   "cell_type": "code",
   "execution_count": 1,
   "metadata": {},
   "outputs": [
    {
     "ename": "ModuleNotFoundError",
     "evalue": "No module named 'numpy'",
     "output_type": "error",
     "traceback": [
      "\u001b[0;31m---------------------------------------------------------------------------\u001b[0m",
      "\u001b[0;31mModuleNotFoundError\u001b[0m                       Traceback (most recent call last)",
      "\u001b[0;32m<ipython-input-1-e0e1492b7973>\u001b[0m in \u001b[0;36m<module>\u001b[0;34m\u001b[0m\n\u001b[0;32m----> 1\u001b[0;31m \u001b[0;32mimport\u001b[0m \u001b[0mnumpy\u001b[0m \u001b[0;32mas\u001b[0m \u001b[0mnp\u001b[0m\u001b[0;34m\u001b[0m\u001b[0;34m\u001b[0m\u001b[0m\n\u001b[0m\u001b[1;32m      2\u001b[0m \u001b[0;32mimport\u001b[0m \u001b[0mmatplotlib\u001b[0m\u001b[0;34m.\u001b[0m\u001b[0mpyplot\u001b[0m \u001b[0;32mas\u001b[0m \u001b[0mplt\u001b[0m\u001b[0;34m\u001b[0m\u001b[0;34m\u001b[0m\u001b[0m\n",
      "\u001b[0;31mModuleNotFoundError\u001b[0m: No module named 'numpy'"
     ]
    }
   ],
   "source": [
    "import numpy as np\n",
    "import matplotlib.pyplot as plt"
   ]
  },
  {
   "cell_type": "code",
   "execution_count": 25,
   "metadata": {},
   "outputs": [
    {
     "name": "stdout",
     "output_type": "stream",
     "text": [
      "Dimensions of array\n",
      "4\n",
      "[1 2 3 4]\n"
     ]
    }
   ],
   "source": [
    "#Declaring a numpy vector, numpy 2D-array\n",
    "A = np.array([1,2,3,4])\n",
    "print('Dimensions of array')\n",
    "print(len(A))\n",
    "print(A)"
   ]
  },
  {
   "cell_type": "code",
   "execution_count": 20,
   "metadata": {},
   "outputs": [
    {
     "name": "stdout",
     "output_type": "stream",
     "text": [
      "Dimensions of array\n",
      "(2, 2)\n",
      "[[1 2]\n",
      " [3 4]]\n"
     ]
    }
   ],
   "source": [
    "B = np.array(([1,2],[3,4]))\n",
    "print('Dimensions of array')\n",
    "print(np.shape(B))\n",
    "print(B)"
   ]
  },
  {
   "cell_type": "code",
   "execution_count": 30,
   "metadata": {},
   "outputs": [
    {
     "name": "stdout",
     "output_type": "stream",
     "text": [
      "[[1.]\n",
      " [1.]\n",
      " [1.]]\n",
      "[[0. 0.]\n",
      " [0. 0.]\n",
      " [0. 0.]\n",
      " [0. 0.]\n",
      " [0. 0.]]\n",
      "[[0.0362107  0.96009133 0.90248488]\n",
      " [0.40227644 0.76614523 0.20978822]]\n",
      "[[0.0362107 ]\n",
      " [0.96009133]\n",
      " [0.90248488]\n",
      " [0.40227644]\n",
      " [0.76614523]\n",
      " [0.20978822]]\n"
     ]
    }
   ],
   "source": [
    "#Useful arrays and operations like reshape, dot\n",
    "one_array = np.ones((3,1))\n",
    "zero_array = np.zeros((5,2))\n",
    "print(one_array)\n",
    "print(zero_array)\n",
    "\n",
    "x = np.random.rand(2,3) # from a uniform distribution over [0, 1)\n",
    "print(x)\n",
    "flat_x = np.reshape(x, (6,1))\n",
    "print(flat_x)"
   ]
  },
  {
   "cell_type": "code",
   "execution_count": 15,
   "metadata": {},
   "outputs": [
    {
     "name": "stdout",
     "output_type": "stream",
     "text": [
      "C = 26\n",
      "D = \n",
      "[[1 2 4]\n",
      " [5 6 7]\n",
      " [3 5 2]]\n",
      "A = \n",
      "[1 2 3]\n",
      "E = [17 38 19]\n"
     ]
    }
   ],
   "source": [
    "#dot product: dot(vec, vec), dot(mat, vec) more:https://docs.scipy.org/doc/numpy/reference/generated/numpy.dot.html\n",
    "A = np.array([1,2,3])\n",
    "B = np.array([10,5,2])\n",
    "C = np.dot(A,B)\n",
    "print('C = {}'.format(C))\n",
    "D = np.array(([1,2,4],[5,6,7], [3,5,2]))\n",
    "print('D = ')\n",
    "print(D)\n",
    "E = np.dot(D,A)\n",
    "print('A = ')\n",
    "print(A)\n",
    "print('E = {}'.format(E))"
   ]
  },
  {
   "cell_type": "code",
   "execution_count": 22,
   "metadata": {},
   "outputs": [
    {
     "name": "stdout",
     "output_type": "stream",
     "text": [
      "Negative\n",
      "Negative\n",
      "Negative\n",
      "Negative\n",
      "Negative\n",
      "Negative\n",
      "Negative\n",
      "Negative\n",
      "Negative\n",
      "Negative\n",
      "even\n",
      "Odd\n",
      "even\n",
      "Odd\n",
      "even\n",
      "Odd\n",
      "even\n",
      "Odd\n",
      "even\n",
      "Odd\n"
     ]
    }
   ],
   "source": [
    "# For loops, if then else,\n",
    "for i in range(-10,10):\n",
    "    if i%2==0 and i>=0:\n",
    "        print('even')\n",
    "    elif i%2==1 and i>=0:\n",
    "        print('Odd')\n",
    "    else:\n",
    "        print('Negative')"
   ]
  },
  {
   "cell_type": "code",
   "execution_count": 23,
   "metadata": {},
   "outputs": [
    {
     "name": "stdout",
     "output_type": "stream",
     "text": [
      "(3,)\n",
      "[[1 4]\n",
      " [2 5]\n",
      " [3 6]]\n"
     ]
    }
   ],
   "source": [
    "#Concatenate two vectors\n",
    "A = np.array([1,2,3])\n",
    "print(np.shape(A))\n",
    "B = np.array([4,5,6])\n",
    "C = np.concatenate((A[:,None],B[:,None]), axis=1)\n",
    "print(C)"
   ]
  },
  {
   "cell_type": "code",
   "execution_count": 26,
   "metadata": {},
   "outputs": [
    {
     "name": "stdout",
     "output_type": "stream",
     "text": [
      "Squared A\n",
      "[ 1  4  9 16]\n",
      "Exponential\n",
      "[0.36787944 0.13533528 0.04978707 0.01831564]\n"
     ]
    }
   ],
   "source": [
    "#np.mean for average TODO, element wise operations\n",
    "A = np.array([-1,-2,-3,-4])\n",
    "sq_A = A**2\n",
    "print('Squared A')\n",
    "print(sq_A)\n",
    "exp_A = np.exp(A)\n",
    "print('Exponential')\n",
    "print(exp_A)"
   ]
  },
  {
   "cell_type": "code",
   "execution_count": 27,
   "metadata": {},
   "outputs": [
    {
     "name": "stdout",
     "output_type": "stream",
     "text": [
      "Mean is=2.5\n",
      "Mean is=2.5\n",
      "B\n",
      "[[1 2 3]\n",
      " [2 5 6]]\n",
      "Average along rows:[2.         4.33333333]\n",
      "Average along columns:[1.5 3.5 4.5]\n"
     ]
    }
   ],
   "source": [
    "A = np.array([1,2,3,4])\n",
    "print('Mean is={}'.format(np.mean(A)))\n",
    "print('Mean is='+str(np.mean(A)))\n",
    "\n",
    "B = np.array(([1,2,3], [2,5,6]))\n",
    "print('B')\n",
    "print(B)\n",
    "row_avg = np.mean(B, axis=1)\n",
    "col_avg = np.mean(B, axis=0)\n",
    "print('Average along rows:{}'.format(row_avg))\n",
    "print('Average along columns:{}'.format(col_avg))"
   ]
  },
  {
   "cell_type": "code",
   "execution_count": 31,
   "metadata": {},
   "outputs": [
    {
     "name": "stdout",
     "output_type": "stream",
     "text": [
      "a= [-2.00000000e+00 -1.90000000e+00 -1.80000000e+00 -1.70000000e+00\n",
      " -1.60000000e+00 -1.50000000e+00 -1.40000000e+00 -1.30000000e+00\n",
      " -1.20000000e+00 -1.10000000e+00 -1.00000000e+00 -9.00000000e-01\n",
      " -8.00000000e-01 -7.00000000e-01 -6.00000000e-01 -5.00000000e-01\n",
      " -4.00000000e-01 -3.00000000e-01 -2.00000000e-01 -1.00000000e-01\n",
      "  1.77635684e-15  1.00000000e-01  2.00000000e-01  3.00000000e-01\n",
      "  4.00000000e-01  5.00000000e-01  6.00000000e-01  7.00000000e-01\n",
      "  8.00000000e-01  9.00000000e-01  1.00000000e+00  1.10000000e+00\n",
      "  1.20000000e+00  1.30000000e+00  1.40000000e+00  1.50000000e+00\n",
      "  1.60000000e+00  1.70000000e+00  1.80000000e+00  1.90000000e+00]\n",
      "b= [-2.00000000e+00 -1.90000000e+00 -1.80000000e+00 -1.70000000e+00\n",
      " -1.60000000e+00 -1.50000000e+00 -1.40000000e+00 -1.30000000e+00\n",
      " -1.20000000e+00 -1.10000000e+00 -1.00000000e+00 -9.00000000e-01\n",
      " -8.00000000e-01 -7.00000000e-01 -6.00000000e-01 -5.00000000e-01\n",
      " -4.00000000e-01 -3.00000000e-01 -2.00000000e-01 -1.00000000e-01\n",
      "  1.77635684e-15  1.00000000e-01  2.00000000e-01  3.00000000e-01\n",
      "  4.00000000e-01  5.00000000e-01  6.00000000e-01  7.00000000e-01\n",
      "  8.00000000e-01  9.00000000e-01  1.00000000e+00  1.10000000e+00\n",
      "  1.20000000e+00  1.30000000e+00  1.40000000e+00  1.50000000e+00\n",
      "  1.60000000e+00  1.70000000e+00  1.80000000e+00  1.90000000e+00]\n"
     ]
    }
   ],
   "source": [
    "# Numpy arrays indexing\n",
    "a=np.arange(-2,2,0.1)\n",
    "b=a[np.abs(a)<5]\n",
    "print('a=',a)\n",
    "print('b=',b)"
   ]
  },
  {
   "cell_type": "code",
   "execution_count": 5,
   "metadata": {},
   "outputs": [
    {
     "data": {
      "text/plain": [
       "[<matplotlib.lines.Line2D at 0x7f9e01bd55f8>]"
      ]
     },
     "execution_count": 5,
     "metadata": {},
     "output_type": "execute_result"
    },
    {
     "data": {
      "image/png": "[encoded data removed]",
      "text/plain": [
       "<Figure size 432x288 with 1 Axes>"
      ]
     },
     "metadata": {},
     "output_type": "display_data"
    }
   ],
   "source": [
    "#1D plots\n",
    "t = np.array([0,2,5,7,9,11,13,15,18])\n",
    "r1 = np.array([1, 0.933, 0.936, 0.68, 0.58, 1.12, 1.188, 1.53, 2.011])\n",
    "r2 = np.array([1, 1.02, 1.134, 0.93, 0.64, 0.70, 0.52, 0.76,0.81])\n",
    "plt.plot(t,r1)\n",
    "plt.plot(t,r2)\n",
    "#plt.plot(t,r3)"
   ]
  },
  {
   "cell_type": "code",
   "execution_count": 25,
   "metadata": {},
   "outputs": [
    {
     "data": {
      "text/plain": [
       "<matplotlib.colorbar.Colorbar at 0x7ff21ebea0b8>"
      ]
     },
     "execution_count": 25,
     "metadata": {},
     "output_type": "execute_result"
    },
    {
     "data": {
      "image/png": "[encoded data removed]",
      "text/plain": [
       "<Figure size 432x288 with 2 Axes>"
      ]
     },
     "metadata": {},
     "output_type": "display_data"
    }
   ],
   "source": [
    "#Contour plots\n",
    "x1 = np.linspace(-1,1,100) #or arange\n",
    "x2 = np.linspace(-1,1,100)\n",
    "X_mesh, Y_mesh = np.meshgrid(x1, x2)\n",
    "Z = np.exp(-4*(X_mesh)**2 + -4*(Y_mesh)**2) # function is exp(-4*((x1)^2 +(x2)^2))\n",
    "plt.contourf(X_mesh, Y_mesh, Z, levels=np.linspace(Z.min()-0.5, Z.max(),30))\n",
    "plt.colorbar()"
   ]
  },
  {
   "cell_type": "code",
   "execution_count": null,
   "metadata": {},
   "outputs": [],
   "source": []
  }
 ],
 "metadata": {
  "kernelspec": {
   "display_name": "Python 3",
   "language": "python",
   "name": "python3"
  },
  "language_info": {
   "codemirror_mode": {
    "name": "ipython",
    "version": 3
   },
   "file_extension": ".py",
   "mimetype": "text/x-python",
   "name": "python",
   "nbconvert_exporter": "python",
   "pygments_lexer": "ipython3",
   "version": "3.6.8"
  }
 },
 "nbformat": 4,
 "nbformat_minor": 2
}
