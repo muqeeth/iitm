{
 "cells": [
  {
   "cell_type": "code",
   "execution_count": 3,
   "metadata": {
    "colab": {},
    "colab_type": "code",
    "id": "_huNREZF28PJ"
   },
   "outputs": [],
   "source": [
    "# !pip install cvxopt\n",
    "import numpy as np\n",
    "np.random.seed(221)\n",
    "np.set_printoptions(precision=3)\n",
    "import matplotlib.pyplot as plt\n",
    "from cvxopt import matrix, solvers\n"
   ]
  },
  {
   "cell_type": "code",
   "execution_count": 4,
   "metadata": {
    "colab": {},
    "colab_type": "code",
    "id": "qaGQ9tbn28PQ",
    "outputId": "cff73378-9659-41cb-bb4f-c6130f4d42da"
   },
   "outputs": [
    {
     "name": "stdout",
     "output_type": "stream",
     "text": [
      "w_temp= [ 0.261  0.026 -0.082 -0.309]\n",
      "indices= [326 308 282  23]\n",
      "--------------------------------\n"
     ]
    }
   ],
   "source": [
    "data_dim = 1000\n",
    "num_data = 50\n",
    "num_test_data=50\n",
    "sparsity = 4\n",
    "\n",
    "w_temp = 0.5*np.random.randn(sparsity)\n",
    "indices = np.random.choice(data_dim, sparsity, replace=False)\n",
    "w_star=np.zeros(data_dim)\n",
    "w_star[indices]=w_temp\n",
    "\n",
    "data_matrix = np.random.randn(num_data, data_dim)\n",
    "labels = np.dot(data_matrix, w_star) + 0.05*np.random.randn(num_data)\n",
    "\n",
    "data_matrix_test = np.random.randn(num_test_data, data_dim)\n",
    "labels_test = np.dot(data_matrix_test, w_star) + 0.05*np.random.randn(num_test_data)\n",
    "\n",
    "print('w_temp=',w_temp)\n",
    "print('indices=', indices)\n",
    "print('--------------------------------')\n",
    "\n",
    "\n",
    "\n",
    "Hessian = np.dot(data_matrix.T, data_matrix)\n",
    "eig_vals, eig_vecs = np.linalg.eig(Hessian)\n",
    "smoothness_coeff = np.real(np.max(eig_vals))\n",
    "# print(smoothness_coeff)\n",
    "\n"
   ]
  },
  {
   "cell_type": "code",
   "execution_count": 5,
   "metadata": {
    "colab": {},
    "colab_type": "code",
    "id": "tCn3TCVP28PX"
   },
   "outputs": [],
   "source": [
    "def get_value(w):\n",
    "    return (0.5/len(data_matrix))*(np.linalg.norm(np.dot(data_matrix,w)-labels))**2\n",
    "\n",
    "def get_value_test(w):\n",
    "    return (0.5/len(data_matrix_test))*(np.linalg.norm(np.dot(data_matrix_test,w)-labels_test))**2\n",
    "\n",
    "\n",
    "def get_gradient(w):\n",
    "    return np.dot(Hessian,w) - np.dot(data_matrix.T,labels)\n",
    "\n",
    "def projection_oracle_l2(w, l2_norm):\n",
    "    return (l2_norm/np.linalg.norm(w))*w\n",
    "\n",
    "def projection_oracle_l1(w, l1_norm):\n",
    "    # first remeber signs and store them. Modify w \n",
    "    signs = np.sign(w)\n",
    "    w = w*signs\n",
    "    # project this modified w onto the simplex in first orthant.\n",
    "    d=len(w)\n",
    "    if np.sum(w)<=l1_norm:\n",
    "        return w*signs\n",
    "    \n",
    "    for i in range(d):\n",
    "        w_next = w+0\n",
    "        w_next[w>1e-7] = w[w>1e-7] - np.min(w[w>1e-7])\n",
    "        if np.sum(w_next)<=l1_norm:\n",
    "            w = ((l1_norm - np.sum(w_next))*w + (np.sum(w) - l1_norm)*w_next)/(np.sum(w)-np.sum(w_next))\n",
    "            return w*signs\n",
    "        else:\n",
    "            w=w_next\n",
    "    \n",
    "    \n",
    "    \n",
    "    \n"
   ]
  },
  {
   "cell_type": "markdown",
   "metadata": {},
   "source": [
    "# LASSO Regression"
   ]
  },
  {
   "cell_type": "code",
   "execution_count": 6,
   "metadata": {},
   "outputs": [
    {
     "name": "stdout",
     "output_type": "stream",
     "text": [
      "Train error before training= 415.6272066157925\n",
      "Test error before training= 543.0889425583126\n",
      "--------------------------------\n",
      "--------------------------------\n",
      "Train error after training= 9.696341064791664e-31\n",
      "Test error after training= 3.0440003153759925\n",
      "--------------------------------\n",
      "Top w_star indices= [ 23 326 282 308 331]\n",
      "Top w_star values= [-0.309  0.261 -0.082  0.026  0.   ]\n",
      "--------------------------------\n",
      "Top w indices= [601  28  40 512 137]\n",
      "Top w values= [ 0.764  0.706  0.704 -0.626  0.572]\n"
     ]
    }
   ],
   "source": [
    "eta=1/smoothness_coeff\n",
    "w=np.random.randn(data_dim)\n",
    "l1_norm_constraint = 16.\n",
    "\n",
    "print('Train error before training=', get_value(w))\n",
    "print('Test error before training=', get_value_test(w))\n",
    "print('--------------------------------')\n",
    "for i in range(1000):\n",
    "    w = w - eta*get_gradient(w)\n",
    "    w = projection_oracle_l1(w, l1_norm_constraint)\n",
    "print('--------------------------------')\n",
    "print('Train error after training=', get_value(w))\n",
    "print('Test error after training=', get_value_test(w))\n",
    "\n",
    "\n",
    "top_w_star_indices=np.argsort(np.abs(w_star))[-1:-6:-1]\n",
    "print('--------------------------------')\n",
    "print('Top w_star indices=',top_w_star_indices)\n",
    "print('Top w_star values=',w_star[top_w_star_indices])\n",
    "\n",
    "top_w_indices=np.argsort(np.abs(w))[-1:-6:-1]\n",
    "print('--------------------------------')\n",
    "print('Top w indices=',top_w_indices)\n",
    "print('Top w values=',w[top_w_indices])\n"
   ]
  },
  {
   "cell_type": "code",
   "execution_count": 7,
   "metadata": {},
   "outputs": [
    {
     "name": "stdout",
     "output_type": "stream",
     "text": [
      "Train error before training= 492.85846211773946\n",
      "Test error before training= 319.42816954413956\n",
      "--------------------------------\n",
      "--------------------------------\n",
      "Train error after training= 2.041925093819033e-31\n",
      "Test error after training= 0.9983215571601372\n",
      "--------------------------------\n",
      "Top w_star indices= [ 23 326 282 308 331]\n",
      "Top w_star values= [-0.309  0.261 -0.082  0.026  0.   ]\n",
      "--------------------------------\n",
      "Top w indices= [944 281 477 683 764]\n",
      "Top w values= [ 0.79   0.654 -0.57  -0.423 -0.332]\n"
     ]
    }
   ],
   "source": [
    "eta=1/smoothness_coeff\n",
    "w=np.random.randn(data_dim)\n",
    "l1_norm_constraint = 8.\n",
    "\n",
    "print('Train error before training=', get_value(w))\n",
    "print('Test error before training=', get_value_test(w))\n",
    "print('--------------------------------')\n",
    "for i in range(1000):\n",
    "    w = w - eta*get_gradient(w)\n",
    "    w = projection_oracle_l1(w, l1_norm_constraint)\n",
    "print('--------------------------------')\n",
    "print('Train error after training=', get_value(w))\n",
    "print('Test error after training=', get_value_test(w))\n",
    "\n",
    "\n",
    "top_w_star_indices=np.argsort(np.abs(w_star))[-1:-6:-1]\n",
    "print('--------------------------------')\n",
    "print('Top w_star indices=',top_w_star_indices)\n",
    "print('Top w_star values=',w_star[top_w_star_indices])\n",
    "\n",
    "top_w_indices=np.argsort(np.abs(w))[-1:-6:-1]\n",
    "print('--------------------------------')\n",
    "print('Top w indices=',top_w_indices)\n",
    "print('Top w values=',w[top_w_indices])\n"
   ]
  },
  {
   "cell_type": "code",
   "execution_count": 8,
   "metadata": {
    "colab": {},
    "colab_type": "code",
    "id": "tcEmgcM_28Pc",
    "outputId": "3e04373d-f399-40e8-b86d-a6357a122205"
   },
   "outputs": [
    {
     "name": "stdout",
     "output_type": "stream",
     "text": [
      "Train error before training= 718.2717693386762\n",
      "Test error before training= 534.1439878119544\n",
      "--------------------------------\n",
      "--------------------------------\n",
      "Train error after training= 4.5978808897950205e-32\n",
      "Test error after training= 0.24393954945525712\n",
      "--------------------------------\n",
      "Top w_star indices= [ 23 326 282 308 331]\n",
      "Top w_star values= [-0.309  0.261 -0.082  0.026  0.   ]\n",
      "--------------------------------\n",
      "Top w indices= [270 211 901 789 834]\n",
      "Top w values= [-0.509 -0.222 -0.167  0.147 -0.139]\n"
     ]
    }
   ],
   "source": [
    "\n",
    "eta=1/smoothness_coeff\n",
    "w=np.random.randn(data_dim)\n",
    "l1_norm_constraint = 4.\n",
    "\n",
    "print('Train error before training=', get_value(w))\n",
    "print('Test error before training=', get_value_test(w))\n",
    "print('--------------------------------')\n",
    "for i in range(1000):\n",
    "    w = w - eta*get_gradient(w)\n",
    "    w = projection_oracle_l1(w, l1_norm_constraint)\n",
    "print('--------------------------------')\n",
    "print('Train error after training=', get_value(w))\n",
    "print('Test error after training=', get_value_test(w))\n",
    "\n",
    "top_w_star_indices=np.argsort(np.abs(w_star))[-1:-6:-1]\n",
    "print('--------------------------------')\n",
    "print('Top w_star indices=',top_w_star_indices)\n",
    "print('Top w_star values=',w_star[top_w_star_indices])\n",
    "\n",
    "top_w_indices=np.argsort(np.abs(w))[-1:-6:-1]\n",
    "print('--------------------------------')\n",
    "print('Top w indices=',top_w_indices)\n",
    "print('Top w values=',w[top_w_indices])\n"
   ]
  },
  {
   "cell_type": "code",
   "execution_count": 9,
   "metadata": {},
   "outputs": [
    {
     "name": "stdout",
     "output_type": "stream",
     "text": [
      "Train error before training= 503.53323947738045\n",
      "Test error before training= 477.45924254501944\n",
      "--------------------------------\n",
      "--------------------------------\n",
      "Train error after training= 5.6074081786688945e-27\n",
      "Test error after training= 0.06149421721985076\n",
      "--------------------------------\n",
      "Top w_star indices= [ 23 326 282 308 331]\n",
      "Top w_star values= [-0.309  0.261 -0.082  0.026  0.   ]\n",
      "--------------------------------\n",
      "Top w indices= [303 326 697 128  23]\n",
      "Top w values= [-0.133  0.124  0.105 -0.103 -0.098]\n"
     ]
    }
   ],
   "source": [
    "eta=1/smoothness_coeff\n",
    "w=np.random.randn(data_dim)\n",
    "l1_norm_constraint = 2.\n",
    "\n",
    "print('Train error before training=', get_value(w))\n",
    "print('Test error before training=', get_value_test(w))\n",
    "print('--------------------------------')\n",
    "for i in range(1000):\n",
    "    w = w - eta*get_gradient(w)\n",
    "    w = projection_oracle_l1(w, l1_norm_constraint)\n",
    "print('--------------------------------')\n",
    "print('Train error after training=', get_value(w))\n",
    "print('Test error after training=', get_value_test(w))\n",
    "\n",
    "top_w_star_indices=np.argsort(np.abs(w_star))[-1:-6:-1]\n",
    "print('--------------------------------')\n",
    "print('Top w_star indices=',top_w_star_indices)\n",
    "print('Top w_star values=',w_star[top_w_star_indices])\n",
    "\n",
    "top_w_indices=np.argsort(np.abs(w))[-1:-6:-1]\n",
    "print('--------------------------------')\n",
    "print('Top w indices=',top_w_indices)\n",
    "print('Top w values=',w[top_w_indices])\n"
   ]
  },
  {
   "cell_type": "code",
   "execution_count": 10,
   "metadata": {},
   "outputs": [
    {
     "name": "stdout",
     "output_type": "stream",
     "text": [
      "Train error before training= 586.7392491557711\n",
      "Test error before training= 557.7130151062547\n",
      "--------------------------------\n",
      "--------------------------------\n",
      "Train error after training= 1.1367070873580014e-09\n",
      "Test error after training= 0.01447025203170862\n",
      "--------------------------------\n",
      "Top w_star indices= [ 23 326 282 308 331]\n",
      "Top w_star values= [-0.309  0.261 -0.082  0.026  0.   ]\n",
      "--------------------------------\n",
      "Top w indices= [ 23 326 213  83  53]\n",
      "Top w values= [-0.201  0.167  0.038 -0.035  0.027]\n"
     ]
    }
   ],
   "source": [
    "eta=1/smoothness_coeff\n",
    "w=np.random.randn(data_dim)\n",
    "l1_norm_constraint = 1.\n",
    "\n",
    "print('Train error before training=', get_value(w))\n",
    "print('Test error before training=', get_value_test(w))\n",
    "print('--------------------------------')\n",
    "for i in range(1000):\n",
    "    w = w - eta*get_gradient(w)\n",
    "    w = projection_oracle_l1(w, l1_norm_constraint)\n",
    "print('--------------------------------')\n",
    "print('Train error after training=', get_value(w))\n",
    "print('Test error after training=', get_value_test(w))\n",
    "\n",
    "top_w_star_indices=np.argsort(np.abs(w_star))[-1:-6:-1]\n",
    "print('--------------------------------')\n",
    "print('Top w_star indices=',top_w_star_indices)\n",
    "print('Top w_star values=',w_star[top_w_star_indices])\n",
    "\n",
    "top_w_indices=np.argsort(np.abs(w))[-1:-6:-1]\n",
    "print('--------------------------------')\n",
    "print('Top w indices=',top_w_indices)\n",
    "print('Top w values=',w[top_w_indices])\n"
   ]
  },
  {
   "cell_type": "code",
   "execution_count": 12,
   "metadata": {},
   "outputs": [
    {
     "name": "stdout",
     "output_type": "stream",
     "text": [
      "Train error before training= 498.7379608085669\n",
      "Test error before training= 382.2216198134936\n",
      "--------------------------------\n"
     ]
    },
    {
     "ename": "KeyboardInterrupt",
     "evalue": "",
     "output_type": "error",
     "traceback": [
      "\u001b[0;31m---------------------------------------------------------------------------\u001b[0m",
      "\u001b[0;31mKeyboardInterrupt\u001b[0m                         Traceback (most recent call last)",
      "\u001b[0;32m<ipython-input-12-d6f4e1d42616>\u001b[0m in \u001b[0;36m<module>\u001b[0;34m\u001b[0m\n\u001b[1;32m      8\u001b[0m \u001b[0;32mfor\u001b[0m \u001b[0mi\u001b[0m \u001b[0;32min\u001b[0m \u001b[0mrange\u001b[0m\u001b[0;34m(\u001b[0m\u001b[0;36m1000\u001b[0m\u001b[0;34m)\u001b[0m\u001b[0;34m:\u001b[0m\u001b[0;34m\u001b[0m\u001b[0;34m\u001b[0m\u001b[0m\n\u001b[1;32m      9\u001b[0m     \u001b[0mw\u001b[0m \u001b[0;34m=\u001b[0m \u001b[0mw\u001b[0m \u001b[0;34m-\u001b[0m \u001b[0meta\u001b[0m\u001b[0;34m*\u001b[0m\u001b[0mget_gradient\u001b[0m\u001b[0;34m(\u001b[0m\u001b[0mw\u001b[0m\u001b[0;34m)\u001b[0m\u001b[0;34m\u001b[0m\u001b[0;34m\u001b[0m\u001b[0m\n\u001b[0;32m---> 10\u001b[0;31m     \u001b[0mw\u001b[0m \u001b[0;34m=\u001b[0m \u001b[0mprojection_oracle_l1\u001b[0m\u001b[0;34m(\u001b[0m\u001b[0mw\u001b[0m\u001b[0;34m,\u001b[0m \u001b[0ml1_norm_constraint\u001b[0m\u001b[0;34m)\u001b[0m\u001b[0;34m\u001b[0m\u001b[0;34m\u001b[0m\u001b[0m\n\u001b[0m\u001b[1;32m     11\u001b[0m \u001b[0mprint\u001b[0m\u001b[0;34m(\u001b[0m\u001b[0;34m'--------------------------------'\u001b[0m\u001b[0;34m)\u001b[0m\u001b[0;34m\u001b[0m\u001b[0;34m\u001b[0m\u001b[0m\n\u001b[1;32m     12\u001b[0m \u001b[0mprint\u001b[0m\u001b[0;34m(\u001b[0m\u001b[0;34m'Train error after training='\u001b[0m\u001b[0;34m,\u001b[0m \u001b[0mget_value\u001b[0m\u001b[0;34m(\u001b[0m\u001b[0mw\u001b[0m\u001b[0;34m)\u001b[0m\u001b[0;34m)\u001b[0m\u001b[0;34m\u001b[0m\u001b[0;34m\u001b[0m\u001b[0m\n",
      "\u001b[0;32m<ipython-input-5-95e1b9a39663>\u001b[0m in \u001b[0;36mprojection_oracle_l1\u001b[0;34m(w, l1_norm)\u001b[0m\n\u001b[1;32m     24\u001b[0m         \u001b[0mw_next\u001b[0m \u001b[0;34m=\u001b[0m \u001b[0mw\u001b[0m\u001b[0;34m+\u001b[0m\u001b[0;36m0\u001b[0m\u001b[0;34m\u001b[0m\u001b[0;34m\u001b[0m\u001b[0m\n\u001b[1;32m     25\u001b[0m         \u001b[0mw_next\u001b[0m\u001b[0;34m[\u001b[0m\u001b[0mw\u001b[0m\u001b[0;34m>\u001b[0m\u001b[0;36m1e-7\u001b[0m\u001b[0;34m]\u001b[0m \u001b[0;34m=\u001b[0m \u001b[0mw\u001b[0m\u001b[0;34m[\u001b[0m\u001b[0mw\u001b[0m\u001b[0;34m>\u001b[0m\u001b[0;36m1e-7\u001b[0m\u001b[0;34m]\u001b[0m \u001b[0;34m-\u001b[0m \u001b[0mnp\u001b[0m\u001b[0;34m.\u001b[0m\u001b[0mmin\u001b[0m\u001b[0;34m(\u001b[0m\u001b[0mw\u001b[0m\u001b[0;34m[\u001b[0m\u001b[0mw\u001b[0m\u001b[0;34m>\u001b[0m\u001b[0;36m1e-7\u001b[0m\u001b[0;34m]\u001b[0m\u001b[0;34m)\u001b[0m\u001b[0;34m\u001b[0m\u001b[0;34m\u001b[0m\u001b[0m\n\u001b[0;32m---> 26\u001b[0;31m         \u001b[0;32mif\u001b[0m \u001b[0mnp\u001b[0m\u001b[0;34m.\u001b[0m\u001b[0msum\u001b[0m\u001b[0;34m(\u001b[0m\u001b[0mw_next\u001b[0m\u001b[0;34m)\u001b[0m\u001b[0;34m<=\u001b[0m\u001b[0ml1_norm\u001b[0m\u001b[0;34m:\u001b[0m\u001b[0;34m\u001b[0m\u001b[0;34m\u001b[0m\u001b[0m\n\u001b[0m\u001b[1;32m     27\u001b[0m             \u001b[0mw\u001b[0m \u001b[0;34m=\u001b[0m \u001b[0;34m(\u001b[0m\u001b[0;34m(\u001b[0m\u001b[0ml1_norm\u001b[0m \u001b[0;34m-\u001b[0m \u001b[0mnp\u001b[0m\u001b[0;34m.\u001b[0m\u001b[0msum\u001b[0m\u001b[0;34m(\u001b[0m\u001b[0mw_next\u001b[0m\u001b[0;34m)\u001b[0m\u001b[0;34m)\u001b[0m\u001b[0;34m*\u001b[0m\u001b[0mw\u001b[0m \u001b[0;34m+\u001b[0m \u001b[0;34m(\u001b[0m\u001b[0mnp\u001b[0m\u001b[0;34m.\u001b[0m\u001b[0msum\u001b[0m\u001b[0;34m(\u001b[0m\u001b[0mw\u001b[0m\u001b[0;34m)\u001b[0m \u001b[0;34m-\u001b[0m \u001b[0ml1_norm\u001b[0m\u001b[0;34m)\u001b[0m\u001b[0;34m*\u001b[0m\u001b[0mw_next\u001b[0m\u001b[0;34m)\u001b[0m\u001b[0;34m/\u001b[0m\u001b[0;34m(\u001b[0m\u001b[0mnp\u001b[0m\u001b[0;34m.\u001b[0m\u001b[0msum\u001b[0m\u001b[0;34m(\u001b[0m\u001b[0mw\u001b[0m\u001b[0;34m)\u001b[0m\u001b[0;34m-\u001b[0m\u001b[0mnp\u001b[0m\u001b[0;34m.\u001b[0m\u001b[0msum\u001b[0m\u001b[0;34m(\u001b[0m\u001b[0mw_next\u001b[0m\u001b[0;34m)\u001b[0m\u001b[0;34m)\u001b[0m\u001b[0;34m\u001b[0m\u001b[0;34m\u001b[0m\u001b[0m\n\u001b[1;32m     28\u001b[0m             \u001b[0;32mreturn\u001b[0m \u001b[0mw\u001b[0m\u001b[0;34m*\u001b[0m\u001b[0msigns\u001b[0m\u001b[0;34m\u001b[0m\u001b[0;34m\u001b[0m\u001b[0m\n",
      "\u001b[0;32m~/Downloads/CS5691/myvenv/lib/python3.6/site-packages/numpy/core/fromnumeric.py\u001b[0m in \u001b[0;36msum\u001b[0;34m(a, axis, dtype, out, keepdims, initial)\u001b[0m\n\u001b[1;32m   2060\u001b[0m     \u001b[0;36m15\u001b[0m\u001b[0;34m\u001b[0m\u001b[0;34m\u001b[0m\u001b[0m\n\u001b[1;32m   2061\u001b[0m     \"\"\"\n\u001b[0;32m-> 2062\u001b[0;31m     \u001b[0;32mif\u001b[0m \u001b[0misinstance\u001b[0m\u001b[0;34m(\u001b[0m\u001b[0ma\u001b[0m\u001b[0;34m,\u001b[0m \u001b[0m_gentype\u001b[0m\u001b[0;34m)\u001b[0m\u001b[0;34m:\u001b[0m\u001b[0;34m\u001b[0m\u001b[0;34m\u001b[0m\u001b[0m\n\u001b[0m\u001b[1;32m   2063\u001b[0m         \u001b[0;31m# 2018-02-25, 1.15.0\u001b[0m\u001b[0;34m\u001b[0m\u001b[0;34m\u001b[0m\u001b[0;34m\u001b[0m\u001b[0m\n\u001b[1;32m   2064\u001b[0m         warnings.warn(\n",
      "\u001b[0;31mKeyboardInterrupt\u001b[0m: "
     ]
    }
   ],
   "source": [
    "eta=1/smoothness_coeff\n",
    "w=np.random.randn(data_dim)\n",
    "l1_norm_constraint = 0.5\n",
    "\n",
    "print('Train error before training=', get_value(w))\n",
    "print('Test error before training=', get_value_test(w))\n",
    "print('--------------------------------')\n",
    "for i in range(1000):\n",
    "    w = w - eta*get_gradient(w)\n",
    "    w = projection_oracle_l1(w, l1_norm_constraint)\n",
    "print('--------------------------------')\n",
    "print('Train error after training=', get_value(w))\n",
    "print('Test error after training=', get_value_test(w))\n",
    "\n",
    "top_w_star_indices=np.argsort(np.abs(w_star))[-1:-6:-1]\n",
    "print('--------------------------------')\n",
    "print('Top w_star indices=',top_w_star_indices)\n",
    "print('Top w_star values=',w_star[top_w_star_indices])\n",
    "\n",
    "top_w_indices=np.argsort(np.abs(w))[-1:-6:-1]\n",
    "print('--------------------------------')\n",
    "print('Top w indices=',top_w_indices)\n",
    "print('Top w values=',w[top_w_indices])\n"
   ]
  },
  {
   "cell_type": "code",
   "execution_count": null,
   "metadata": {
    "collapsed": true
   },
   "outputs": [],
   "source": []
  },
  {
   "cell_type": "markdown",
   "metadata": {},
   "source": [
    "# Ridge Regression"
   ]
  },
  {
   "cell_type": "code",
   "execution_count": 35,
   "metadata": {},
   "outputs": [
    {
     "name": "stdout",
     "output_type": "stream",
     "text": [
      "Train error before training= 648.6573362169532\n",
      "Test error before training= 540.4370117800541\n",
      "--------------------------------\n",
      "--------------------------------\n",
      "Train error after training= 0.020632742083699803\n",
      "Test error after training= 0.07331548556564546\n",
      "--------------------------------\n",
      "Top w_star indices= [ 23 326 282 308 331]\n",
      "Top w_star values= [-0.309  0.261 -0.082  0.026  0.   ]\n",
      "--------------------------------\n",
      "Top w indices= [ 23 326   0  53 600]\n",
      "Top w values= [-0.008  0.008  0.005  0.005 -0.004]\n"
     ]
    }
   ],
   "source": [
    "eta=1/smoothness_coeff\n",
    "w=np.random.randn(data_dim)\n",
    "l2_norm_constraint = 0.05\n",
    "\n",
    "print('Train error before training=', get_value(w))\n",
    "print('Test error before training=', get_value_test(w))\n",
    "print('--------------------------------')\n",
    "for i in range(1000):\n",
    "    w = w - eta*get_gradient(w)\n",
    "    if np.linalg.norm(w)>l2_norm_constraint:\n",
    "        w = w*l2_norm_constraint/np.linalg.norm(w)\n",
    "print('--------------------------------')\n",
    "\n",
    "print('Train error after training=', get_value(w))\n",
    "print('Test error after training=', get_value_test(w))\n",
    "\n",
    "\n",
    "top_w_star_indices=np.argsort(np.abs(w_star))[-1:-6:-1]\n",
    "print('--------------------------------')\n",
    "print('Top w_star indices=',top_w_star_indices)\n",
    "print('Top w_star values=',w_star[top_w_star_indices])\n",
    "\n",
    "top_w_indices=np.argsort(np.abs(w))[-1:-6:-1]\n",
    "print('--------------------------------')\n",
    "print('Top w indices=',top_w_indices)\n",
    "print('Top w values=',w[top_w_indices])\n"
   ]
  },
  {
   "cell_type": "code",
   "execution_count": null,
   "metadata": {
    "collapsed": true
   },
   "outputs": [],
   "source": []
  }
 ],
 "metadata": {
  "colab": {
   "name": "Lasso Regression.ipynb",
   "provenance": [],
   "version": "0.3.2"
  },
  "kernelspec": {
   "display_name": "Python 3",
   "language": "python",
   "name": "python3"
  },
  "language_info": {
   "codemirror_mode": {
    "name": "ipython",
    "version": 3
   },
   "file_extension": ".py",
   "mimetype": "text/x-python",
   "name": "python",
   "nbconvert_exporter": "python",
   "pygments_lexer": "ipython3",
   "version": "3.6.8"
  }
 },
 "nbformat": 4,
 "nbformat_minor": 1
}
