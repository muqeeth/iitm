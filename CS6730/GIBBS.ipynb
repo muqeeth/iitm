{
 "cells": [
  {
   "cell_type": "code",
   "execution_count": 165,
   "metadata": {},
   "outputs": [],
   "source": [
    "import numpy as np\n",
    "import matplotlib.pyplot as plt"
   ]
  },
  {
   "cell_type": "code",
   "execution_count": 275,
   "metadata": {},
   "outputs": [],
   "source": [
    "N = 16\n",
    "grid = np.zeros(shape = (N,N))\n",
    "n_samples = 10000"
   ]
  },
  {
   "cell_type": "code",
   "execution_count": 276,
   "metadata": {},
   "outputs": [],
   "source": [
    "def check_neigh(i,j,grid):\n",
    "    yes = 0\n",
    "    #right\n",
    "    if(i+1 <=N-1 and grid[i+1][j] ==1):\n",
    "        yes = 1\n",
    "    #left\n",
    "    if( i-1>=0 and grid[i-1][j] == 1):\n",
    "        yes = 1\n",
    "    #up\n",
    "    if(j-1>=0 and grid[i][j-1] == 1):\n",
    "        yes = 1\n",
    "    #down\n",
    "    if(j+1 <= N-1 and grid[i][j+1] == 1):\n",
    "        yes = 1\n",
    "        \n",
    "    return yes\n",
    "\n",
    "def grid_to_val(grid):\n",
    "    val = 0\n",
    "    count = 0\n",
    "    for i in range(N):\n",
    "        for j in range(N):\n",
    "            val+=(grid[i][j]*(pow(1.1,count)))\n",
    "            count+=1\n",
    "    if(val == 0):\n",
    "        return 0\n",
    "    val = np.log(val)\n",
    "    return val"
   ]
  },
  {
   "cell_type": "code",
   "execution_count": 277,
   "metadata": {},
   "outputs": [],
   "source": [
    "def gibbs_sampling(n_samples, grid,samples):\n",
    "    for k in range(1,n_samples):\n",
    "        i = np.random.randint(0,N)\n",
    "        j = np.random.randint(0,N)\n",
    "        if(not check_neigh(i,j,grid)):\n",
    "            temp = np.random.random_sample()\n",
    "            if(temp<=0.5):\n",
    "                if(grid[i][j] == 1):\n",
    "                    grid[i][j] = 0\n",
    "                else:\n",
    "                    grid[i][j] = 1\n",
    "        samples.append(grid_to_val(grid))\n",
    "    return samples"
   ]
  },
  {
   "cell_type": "code",
   "execution_count": 278,
   "metadata": {},
   "outputs": [],
   "source": [
    "x_start = []\n",
    "#all zeros in grid\n",
    "x_start.append(np.zeros(shape=(N,N)))\n",
    "p = np.zeros(shape=(N,N))\n",
    "#diagonal ones in grid\n",
    "np.fill_diagonal(np.flipud(p), 1)\n",
    "x_start.append(p)\n",
    "p = np.zeros(shape=(N,N))\n",
    "np.fill_diagonal(p, 1)\n",
    "x_start.append(p)\n",
    "p = np.zeros(shape=(N,N))\n",
    "for i in range(N):\n",
    "    for j in range(N):\n",
    "        if(i%2 == 0):\n",
    "            if(j%2 == 0):\n",
    "                p[i][j] = 1\n",
    "            else:\n",
    "                p[i][j] = 0\n",
    "        else:\n",
    "            if(j%2 == 0):\n",
    "                p[i][j] = 0\n",
    "            else:\n",
    "                p[i][j] = 1\n",
    "x_start.append(p)\n",
    "p = np.zeros(shape=(N,N))\n",
    "for i in range(N):\n",
    "    for j in range(N):\n",
    "        if(i%2 == 0):\n",
    "            if(j%2 == 0):\n",
    "                p[i][j] = 0\n",
    "            else:\n",
    "                p[i][j] = 1\n",
    "        else:\n",
    "            if(j%2 == 0):\n",
    "                p[i][j] = 1\n",
    "            else:\n",
    "                p[i][j] = 0\n",
    "x_start.append(p)"
   ]
  },
  {
   "cell_type": "code",
   "execution_count": 279,
   "metadata": {},
   "outputs": [],
   "source": [
    "all_samples = []\n",
    "for i in range(len(x_start)):\n",
    "    x = x_start[i].copy()\n",
    "    samples = []\n",
    "    samples.append(grid_to_val(x))\n",
    "    samples = gibbs_sampling(n_samples,x,samples)\n",
    "    all_samples.append(samples)"
   ]
  },
  {
   "cell_type": "code",
   "execution_count": 280,
   "metadata": {},
   "outputs": [],
   "source": [
    "%matplotlib qt\n",
    "# colours = ['r','g','b']\n",
    "for i in range(len(x_start)):\n",
    "    plt.plot([i for i in range(n_samples)][0:5000:N],all_samples[i][0:5000:N])\n",
    "# plt.ylim(-10,100)\n",
    "plt.title('Burn-in = 2000 for grid N = 56')\n",
    "plt.show()"
   ]
  },
  {
   "cell_type": "code",
   "execution_count": 272,
   "metadata": {},
   "outputs": [
    {
     "data": {
      "text/plain": [
       "Text(0.5, 1.0, 'burn-in vs size of grid')"
      ]
     },
     "execution_count": 272,
     "metadata": {},
     "output_type": "execute_result"
    }
   ],
   "source": [
    "B = [200,300,400,650,1300,1800,2000]\n",
    "size = [8,16,24,32,40,50,56]\n",
    "plt.plot(size,B)\n",
    "plt.title('burn-in vs size of grid')"
   ]
  }
 ],
 "metadata": {
  "kernelspec": {
   "display_name": "Python 3",
   "language": "python",
   "name": "python3"
  },
  "language_info": {
   "codemirror_mode": {
    "name": "ipython",
    "version": 3
   },
   "file_extension": ".py",
   "mimetype": "text/x-python",
   "name": "python",
   "nbconvert_exporter": "python",
   "pygments_lexer": "ipython3",
   "version": "3.6.9"
  }
 },
 "nbformat": 4,
 "nbformat_minor": 4
}
